{
  "nbformat": 4,
  "nbformat_minor": 0,
  "metadata": {
    "colab": {
      "provenance": [],
      "authorship_tag": "ABX9TyOzrrWEs9kuEswAq541K9+s",
      "include_colab_link": true
    },
    "kernelspec": {
      "name": "python3",
      "display_name": "Python 3"
    },
    "language_info": {
      "name": "python"
    }
  },
  "cells": [
    {
      "cell_type": "markdown",
      "metadata": {
        "id": "view-in-github",
        "colab_type": "text"
      },
      "source": [
        "<a href=\"https://colab.research.google.com/github/Jiasha-nath/Temp-Press-Altitude-Predictor-/blob/main/bmp_prediction.ipynb\" target=\"_parent\"><img src=\"https://colab.research.google.com/assets/colab-badge.svg\" alt=\"Open In Colab\"/></a>"
      ]
    },
    {
      "cell_type": "markdown",
      "source": [
        "import"
      ],
      "metadata": {
        "id": "lWZ14eZgnMwz"
      }
    },
    {
      "cell_type": "code",
      "execution_count": null,
      "metadata": {
        "id": "ClDhSu2B6hfb"
      },
      "outputs": [],
      "source": [
        "import numpy as np\n",
        "import pandas as pd\n",
        "import matplotlib.pyplot as plt\n",
        "from sklearn.model_selection import train_test_split\n",
        "from sklearn.linear_model import LinearRegression\n",
        "from sklearn.ensemble import RandomForestRegressor\n",
        "from sklearn.metrics import mean_squared_error, r2_score"
      ]
    },
    {
      "cell_type": "markdown",
      "source": [
        "load dataset"
      ],
      "metadata": {
        "id": "D-0ICXDaRDWL"
      }
    },
    {
      "cell_type": "code",
      "source": [
        "data = pd.read_csv(\"bmp-dataset.csv\")"
      ],
      "metadata": {
        "id": "DI8q2l9I6nNA"
      },
      "execution_count": null,
      "outputs": []
    },
    {
      "cell_type": "markdown",
      "source": [
        "split data into feaures and target variables"
      ],
      "metadata": {
        "id": "oH42zerHRGZK"
      }
    },
    {
      "cell_type": "code",
      "source": [
        "X = data[['Altitude']]  # Features\n",
        "y_temp = data['Temperature']  # Target variable\n",
        "y_pressure = data['Pressure']  # Target variable"
      ],
      "metadata": {
        "id": "6oYz4U0G7JRC"
      },
      "execution_count": null,
      "outputs": []
    },
    {
      "cell_type": "markdown",
      "source": [
        "split data into training and testing sets"
      ],
      "metadata": {
        "id": "Z33T1AnwRTH0"
      }
    },
    {
      "cell_type": "code",
      "source": [
        "X_train_temp, X_test_temp, y_train_temp, y_test_temp = train_test_split(X, y_temp, test_size=0.2, random_state=42)\n",
        "X_train_pressure, X_test_pressure, y_train_pressure, y_test_pressure = train_test_split(X, y_pressure, test_size=0.2, random_state=42)"
      ],
      "metadata": {
        "id": "Q7dll8ZI7B1Q"
      },
      "execution_count": null,
      "outputs": []
    },
    {
      "cell_type": "markdown",
      "source": [
        "train linear regression model"
      ],
      "metadata": {
        "id": "nA_KzZIlRX90"
      }
    },
    {
      "cell_type": "code",
      "source": [
        "model_temp_lr = LinearRegression()\n",
        "model_temp_lr.fit(X_train_temp, y_train_temp)\n",
        "\n",
        "model_pressure_lr = LinearRegression()\n",
        "model_pressure_lr.fit(X_train_pressure, y_train_pressure)"
      ],
      "metadata": {
        "colab": {
          "base_uri": "https://localhost:8080/",
          "height": 74
        },
        "id": "3SWRKgE27Uq_",
        "outputId": "21712a55-1f0c-48a8-fd3b-e89f1364dd87"
      },
      "execution_count": null,
      "outputs": [
        {
          "output_type": "execute_result",
          "data": {
            "text/plain": [
              "LinearRegression()"
            ],
            "text/html": [
              "<style>#sk-container-id-1 {color: black;background-color: white;}#sk-container-id-1 pre{padding: 0;}#sk-container-id-1 div.sk-toggleable {background-color: white;}#sk-container-id-1 label.sk-toggleable__label {cursor: pointer;display: block;width: 100%;margin-bottom: 0;padding: 0.3em;box-sizing: border-box;text-align: center;}#sk-container-id-1 label.sk-toggleable__label-arrow:before {content: \"▸\";float: left;margin-right: 0.25em;color: #696969;}#sk-container-id-1 label.sk-toggleable__label-arrow:hover:before {color: black;}#sk-container-id-1 div.sk-estimator:hover label.sk-toggleable__label-arrow:before {color: black;}#sk-container-id-1 div.sk-toggleable__content {max-height: 0;max-width: 0;overflow: hidden;text-align: left;background-color: #f0f8ff;}#sk-container-id-1 div.sk-toggleable__content pre {margin: 0.2em;color: black;border-radius: 0.25em;background-color: #f0f8ff;}#sk-container-id-1 input.sk-toggleable__control:checked~div.sk-toggleable__content {max-height: 200px;max-width: 100%;overflow: auto;}#sk-container-id-1 input.sk-toggleable__control:checked~label.sk-toggleable__label-arrow:before {content: \"▾\";}#sk-container-id-1 div.sk-estimator input.sk-toggleable__control:checked~label.sk-toggleable__label {background-color: #d4ebff;}#sk-container-id-1 div.sk-label input.sk-toggleable__control:checked~label.sk-toggleable__label {background-color: #d4ebff;}#sk-container-id-1 input.sk-hidden--visually {border: 0;clip: rect(1px 1px 1px 1px);clip: rect(1px, 1px, 1px, 1px);height: 1px;margin: -1px;overflow: hidden;padding: 0;position: absolute;width: 1px;}#sk-container-id-1 div.sk-estimator {font-family: monospace;background-color: #f0f8ff;border: 1px dotted black;border-radius: 0.25em;box-sizing: border-box;margin-bottom: 0.5em;}#sk-container-id-1 div.sk-estimator:hover {background-color: #d4ebff;}#sk-container-id-1 div.sk-parallel-item::after {content: \"\";width: 100%;border-bottom: 1px solid gray;flex-grow: 1;}#sk-container-id-1 div.sk-label:hover label.sk-toggleable__label {background-color: #d4ebff;}#sk-container-id-1 div.sk-serial::before {content: \"\";position: absolute;border-left: 1px solid gray;box-sizing: border-box;top: 0;bottom: 0;left: 50%;z-index: 0;}#sk-container-id-1 div.sk-serial {display: flex;flex-direction: column;align-items: center;background-color: white;padding-right: 0.2em;padding-left: 0.2em;position: relative;}#sk-container-id-1 div.sk-item {position: relative;z-index: 1;}#sk-container-id-1 div.sk-parallel {display: flex;align-items: stretch;justify-content: center;background-color: white;position: relative;}#sk-container-id-1 div.sk-item::before, #sk-container-id-1 div.sk-parallel-item::before {content: \"\";position: absolute;border-left: 1px solid gray;box-sizing: border-box;top: 0;bottom: 0;left: 50%;z-index: -1;}#sk-container-id-1 div.sk-parallel-item {display: flex;flex-direction: column;z-index: 1;position: relative;background-color: white;}#sk-container-id-1 div.sk-parallel-item:first-child::after {align-self: flex-end;width: 50%;}#sk-container-id-1 div.sk-parallel-item:last-child::after {align-self: flex-start;width: 50%;}#sk-container-id-1 div.sk-parallel-item:only-child::after {width: 0;}#sk-container-id-1 div.sk-dashed-wrapped {border: 1px dashed gray;margin: 0 0.4em 0.5em 0.4em;box-sizing: border-box;padding-bottom: 0.4em;background-color: white;}#sk-container-id-1 div.sk-label label {font-family: monospace;font-weight: bold;display: inline-block;line-height: 1.2em;}#sk-container-id-1 div.sk-label-container {text-align: center;}#sk-container-id-1 div.sk-container {/* jupyter's `normalize.less` sets `[hidden] { display: none; }` but bootstrap.min.css set `[hidden] { display: none !important; }` so we also need the `!important` here to be able to override the default hidden behavior on the sphinx rendered scikit-learn.org. See: https://github.com/scikit-learn/scikit-learn/issues/21755 */display: inline-block !important;position: relative;}#sk-container-id-1 div.sk-text-repr-fallback {display: none;}</style><div id=\"sk-container-id-1\" class=\"sk-top-container\"><div class=\"sk-text-repr-fallback\"><pre>LinearRegression()</pre><b>In a Jupyter environment, please rerun this cell to show the HTML representation or trust the notebook. <br />On GitHub, the HTML representation is unable to render, please try loading this page with nbviewer.org.</b></div><div class=\"sk-container\" hidden><div class=\"sk-item\"><div class=\"sk-estimator sk-toggleable\"><input class=\"sk-toggleable__control sk-hidden--visually\" id=\"sk-estimator-id-1\" type=\"checkbox\" checked><label for=\"sk-estimator-id-1\" class=\"sk-toggleable__label sk-toggleable__label-arrow\">LinearRegression</label><div class=\"sk-toggleable__content\"><pre>LinearRegression()</pre></div></div></div></div></div>"
            ]
          },
          "metadata": {},
          "execution_count": 5
        }
      ]
    },
    {
      "cell_type": "markdown",
      "source": [
        "train random forest model"
      ],
      "metadata": {
        "id": "ihaLDZgORdI8"
      }
    },
    {
      "cell_type": "code",
      "source": [
        "model_temp_rf = RandomForestRegressor(n_estimators=100, random_state=42)\n",
        "model_temp_rf.fit(X_train_temp, y_train_temp)\n",
        "\n",
        "model_pressure_rf = RandomForestRegressor(n_estimators=100, random_state=42)\n",
        "model_pressure_rf.fit(X_train_pressure, y_train_pressure)"
      ],
      "metadata": {
        "colab": {
          "base_uri": "https://localhost:8080/",
          "height": 74
        },
        "id": "0WABs0-ROXUL",
        "outputId": "e7160d4c-249e-4c0e-9fd6-dedbf200c457"
      },
      "execution_count": null,
      "outputs": [
        {
          "output_type": "execute_result",
          "data": {
            "text/plain": [
              "RandomForestRegressor(random_state=42)"
            ],
            "text/html": [
              "<style>#sk-container-id-2 {color: black;background-color: white;}#sk-container-id-2 pre{padding: 0;}#sk-container-id-2 div.sk-toggleable {background-color: white;}#sk-container-id-2 label.sk-toggleable__label {cursor: pointer;display: block;width: 100%;margin-bottom: 0;padding: 0.3em;box-sizing: border-box;text-align: center;}#sk-container-id-2 label.sk-toggleable__label-arrow:before {content: \"▸\";float: left;margin-right: 0.25em;color: #696969;}#sk-container-id-2 label.sk-toggleable__label-arrow:hover:before {color: black;}#sk-container-id-2 div.sk-estimator:hover label.sk-toggleable__label-arrow:before {color: black;}#sk-container-id-2 div.sk-toggleable__content {max-height: 0;max-width: 0;overflow: hidden;text-align: left;background-color: #f0f8ff;}#sk-container-id-2 div.sk-toggleable__content pre {margin: 0.2em;color: black;border-radius: 0.25em;background-color: #f0f8ff;}#sk-container-id-2 input.sk-toggleable__control:checked~div.sk-toggleable__content {max-height: 200px;max-width: 100%;overflow: auto;}#sk-container-id-2 input.sk-toggleable__control:checked~label.sk-toggleable__label-arrow:before {content: \"▾\";}#sk-container-id-2 div.sk-estimator input.sk-toggleable__control:checked~label.sk-toggleable__label {background-color: #d4ebff;}#sk-container-id-2 div.sk-label input.sk-toggleable__control:checked~label.sk-toggleable__label {background-color: #d4ebff;}#sk-container-id-2 input.sk-hidden--visually {border: 0;clip: rect(1px 1px 1px 1px);clip: rect(1px, 1px, 1px, 1px);height: 1px;margin: -1px;overflow: hidden;padding: 0;position: absolute;width: 1px;}#sk-container-id-2 div.sk-estimator {font-family: monospace;background-color: #f0f8ff;border: 1px dotted black;border-radius: 0.25em;box-sizing: border-box;margin-bottom: 0.5em;}#sk-container-id-2 div.sk-estimator:hover {background-color: #d4ebff;}#sk-container-id-2 div.sk-parallel-item::after {content: \"\";width: 100%;border-bottom: 1px solid gray;flex-grow: 1;}#sk-container-id-2 div.sk-label:hover label.sk-toggleable__label {background-color: #d4ebff;}#sk-container-id-2 div.sk-serial::before {content: \"\";position: absolute;border-left: 1px solid gray;box-sizing: border-box;top: 0;bottom: 0;left: 50%;z-index: 0;}#sk-container-id-2 div.sk-serial {display: flex;flex-direction: column;align-items: center;background-color: white;padding-right: 0.2em;padding-left: 0.2em;position: relative;}#sk-container-id-2 div.sk-item {position: relative;z-index: 1;}#sk-container-id-2 div.sk-parallel {display: flex;align-items: stretch;justify-content: center;background-color: white;position: relative;}#sk-container-id-2 div.sk-item::before, #sk-container-id-2 div.sk-parallel-item::before {content: \"\";position: absolute;border-left: 1px solid gray;box-sizing: border-box;top: 0;bottom: 0;left: 50%;z-index: -1;}#sk-container-id-2 div.sk-parallel-item {display: flex;flex-direction: column;z-index: 1;position: relative;background-color: white;}#sk-container-id-2 div.sk-parallel-item:first-child::after {align-self: flex-end;width: 50%;}#sk-container-id-2 div.sk-parallel-item:last-child::after {align-self: flex-start;width: 50%;}#sk-container-id-2 div.sk-parallel-item:only-child::after {width: 0;}#sk-container-id-2 div.sk-dashed-wrapped {border: 1px dashed gray;margin: 0 0.4em 0.5em 0.4em;box-sizing: border-box;padding-bottom: 0.4em;background-color: white;}#sk-container-id-2 div.sk-label label {font-family: monospace;font-weight: bold;display: inline-block;line-height: 1.2em;}#sk-container-id-2 div.sk-label-container {text-align: center;}#sk-container-id-2 div.sk-container {/* jupyter's `normalize.less` sets `[hidden] { display: none; }` but bootstrap.min.css set `[hidden] { display: none !important; }` so we also need the `!important` here to be able to override the default hidden behavior on the sphinx rendered scikit-learn.org. See: https://github.com/scikit-learn/scikit-learn/issues/21755 */display: inline-block !important;position: relative;}#sk-container-id-2 div.sk-text-repr-fallback {display: none;}</style><div id=\"sk-container-id-2\" class=\"sk-top-container\"><div class=\"sk-text-repr-fallback\"><pre>RandomForestRegressor(random_state=42)</pre><b>In a Jupyter environment, please rerun this cell to show the HTML representation or trust the notebook. <br />On GitHub, the HTML representation is unable to render, please try loading this page with nbviewer.org.</b></div><div class=\"sk-container\" hidden><div class=\"sk-item\"><div class=\"sk-estimator sk-toggleable\"><input class=\"sk-toggleable__control sk-hidden--visually\" id=\"sk-estimator-id-2\" type=\"checkbox\" checked><label for=\"sk-estimator-id-2\" class=\"sk-toggleable__label sk-toggleable__label-arrow\">RandomForestRegressor</label><div class=\"sk-toggleable__content\"><pre>RandomForestRegressor(random_state=42)</pre></div></div></div></div></div>"
            ]
          },
          "metadata": {},
          "execution_count": 6
        }
      ]
    },
    {
      "cell_type": "markdown",
      "source": [
        "fuction to calculate error percentage"
      ],
      "metadata": {
        "id": "YLe2MaVEa8Pd"
      }
    },
    {
      "cell_type": "code",
      "source": [
        "def calculate_error_percentage(true_values, predicted_values):\n",
        "    return (np.abs(true_values - predicted_values) / true_values) * 100"
      ],
      "metadata": {
        "id": "D16P3WBsa4DF"
      },
      "execution_count": null,
      "outputs": []
    },
    {
      "cell_type": "markdown",
      "source": [
        "Function to calculate R-squared"
      ],
      "metadata": {
        "id": "PWSQRbmJbNCt"
      }
    },
    {
      "cell_type": "code",
      "source": [
        "def calculate_r_squared(true_values, predicted_values):\n",
        "    return r2_score(true_values, predicted_values)"
      ],
      "metadata": {
        "id": "d8R5NESobIO8"
      },
      "execution_count": null,
      "outputs": []
    },
    {
      "cell_type": "markdown",
      "source": [
        "Input 5 altitude values for prediction"
      ],
      "metadata": {
        "id": "hURIePHDbc4T"
      }
    },
    {
      "cell_type": "code",
      "source": [
        "new_altitudes = []\n",
        "for i in range(5):\n",
        "    altitude = float(input(f\"Enter altitude {i+1}: \"))\n",
        "    new_altitudes.append(altitude)"
      ],
      "metadata": {
        "colab": {
          "base_uri": "https://localhost:8080/"
        },
        "id": "JIB282znbQzd",
        "outputId": "8c9f5e4c-75e9-4965-9eb9-77f5621b2a92"
      },
      "execution_count": null,
      "outputs": [
        {
          "name": "stdout",
          "output_type": "stream",
          "text": [
            "Enter altitude 1: 132\n",
            "Enter altitude 2: 130\n",
            "Enter altitude 3: 140\n",
            "Enter altitude 4: 141\n",
            "Enter altitude 5: 145\n"
          ]
        }
      ]
    },
    {
      "cell_type": "markdown",
      "source": [
        "Example prediction with linear regression and rand forest"
      ],
      "metadata": {
        "id": "nkNtQA47_w40"
      }
    },
    {
      "cell_type": "code",
      "source": [
        "for altitude in new_altitudes:\n",
        "\n",
        "    # Example prediction with linear regression\n",
        "    predicted_temp_lr = model_temp_lr.predict(np.array([[altitude]]))\n",
        "    predicted_pressure_lr = model_pressure_lr.predict(np.array([[altitude]]))\n",
        "\n",
        "    print(\"Linear Regression - Predicted Temperature at\", altitude, \"m:\", predicted_temp_lr[0])\n",
        "    print(\"Linear Regression - Predicted Pressure at\", altitude, \"m:\", predicted_pressure_lr[0])\n",
        "\n",
        "     # Example prediction with random forest\n",
        "    predicted_temp_rf = model_temp_rf.predict(np.array([[altitude]]))\n",
        "    predicted_pressure_rf = model_pressure_rf.predict(np.array([[altitude]]))\n",
        "\n",
        "    print(\"Random Forest - Predicted Temperature at\", altitude, \"m:\", predicted_temp_rf[0])\n",
        "    print(\"Random Forest - Predicted Pressure at\", altitude, \"m:\", predicted_pressure_rf[0])"
      ],
      "metadata": {
        "colab": {
          "base_uri": "https://localhost:8080/"
        },
        "id": "wxIjDoKB_biL",
        "outputId": "b8f0f944-08ad-45fd-c3ea-cde9d4f3958c"
      },
      "execution_count": null,
      "outputs": [
        {
          "output_type": "stream",
          "name": "stdout",
          "text": [
            "Linear Regression - Predicted Temperature at 132.0 m: 33.009402751193285\n",
            "Linear Regression - Predicted Pressure at 132.0 m: 997.4953276367355\n",
            "Random Forest - Predicted Temperature at 132.0 m: 36.19799999999996\n",
            "Random Forest - Predicted Pressure at 132.0 m: 996.9290999999979\n",
            "Linear Regression - Predicted Temperature at 130.0 m: 32.56788599639404\n",
            "Linear Regression - Predicted Pressure at 130.0 m: 997.732297822292\n",
            "Random Forest - Predicted Temperature at 130.0 m: 36.19799999999996\n",
            "Random Forest - Predicted Pressure at 130.0 m: 996.9290999999979\n",
            "Linear Regression - Predicted Temperature at 140.0 m: 34.77546977039026\n",
            "Linear Regression - Predicted Pressure at 140.0 m: 996.5474468945092\n",
            "Random Forest - Predicted Temperature at 140.0 m: 34.12769999999994\n",
            "Random Forest - Predicted Pressure at 140.0 m: 996.5902999999978\n",
            "Linear Regression - Predicted Temperature at 141.0 m: 34.99622814778988\n",
            "Linear Regression - Predicted Pressure at 141.0 m: 996.4289618017309\n",
            "Random Forest - Predicted Temperature at 141.0 m: 34.21636666666671\n",
            "Random Forest - Predicted Pressure at 141.0 m: 996.4299999999977\n",
            "Linear Regression - Predicted Temperature at 145.0 m: 35.87926165738836\n",
            "Linear Regression - Predicted Pressure at 145.0 m: 995.9550214306178\n",
            "Random Forest - Predicted Temperature at 145.0 m: 36.08829999999996\n",
            "Random Forest - Predicted Pressure at 145.0 m: 995.9566000000004\n"
          ]
        },
        {
          "output_type": "stream",
          "name": "stderr",
          "text": [
            "/usr/local/lib/python3.10/dist-packages/sklearn/base.py:439: UserWarning: X does not have valid feature names, but LinearRegression was fitted with feature names\n",
            "  warnings.warn(\n",
            "/usr/local/lib/python3.10/dist-packages/sklearn/base.py:439: UserWarning: X does not have valid feature names, but LinearRegression was fitted with feature names\n",
            "  warnings.warn(\n",
            "/usr/local/lib/python3.10/dist-packages/sklearn/base.py:439: UserWarning: X does not have valid feature names, but RandomForestRegressor was fitted with feature names\n",
            "  warnings.warn(\n",
            "/usr/local/lib/python3.10/dist-packages/sklearn/base.py:439: UserWarning: X does not have valid feature names, but RandomForestRegressor was fitted with feature names\n",
            "  warnings.warn(\n",
            "/usr/local/lib/python3.10/dist-packages/sklearn/base.py:439: UserWarning: X does not have valid feature names, but LinearRegression was fitted with feature names\n",
            "  warnings.warn(\n",
            "/usr/local/lib/python3.10/dist-packages/sklearn/base.py:439: UserWarning: X does not have valid feature names, but LinearRegression was fitted with feature names\n",
            "  warnings.warn(\n",
            "/usr/local/lib/python3.10/dist-packages/sklearn/base.py:439: UserWarning: X does not have valid feature names, but RandomForestRegressor was fitted with feature names\n",
            "  warnings.warn(\n",
            "/usr/local/lib/python3.10/dist-packages/sklearn/base.py:439: UserWarning: X does not have valid feature names, but RandomForestRegressor was fitted with feature names\n",
            "  warnings.warn(\n",
            "/usr/local/lib/python3.10/dist-packages/sklearn/base.py:439: UserWarning: X does not have valid feature names, but LinearRegression was fitted with feature names\n",
            "  warnings.warn(\n",
            "/usr/local/lib/python3.10/dist-packages/sklearn/base.py:439: UserWarning: X does not have valid feature names, but LinearRegression was fitted with feature names\n",
            "  warnings.warn(\n",
            "/usr/local/lib/python3.10/dist-packages/sklearn/base.py:439: UserWarning: X does not have valid feature names, but RandomForestRegressor was fitted with feature names\n",
            "  warnings.warn(\n",
            "/usr/local/lib/python3.10/dist-packages/sklearn/base.py:439: UserWarning: X does not have valid feature names, but RandomForestRegressor was fitted with feature names\n",
            "  warnings.warn(\n",
            "/usr/local/lib/python3.10/dist-packages/sklearn/base.py:439: UserWarning: X does not have valid feature names, but LinearRegression was fitted with feature names\n",
            "  warnings.warn(\n",
            "/usr/local/lib/python3.10/dist-packages/sklearn/base.py:439: UserWarning: X does not have valid feature names, but LinearRegression was fitted with feature names\n",
            "  warnings.warn(\n",
            "/usr/local/lib/python3.10/dist-packages/sklearn/base.py:439: UserWarning: X does not have valid feature names, but RandomForestRegressor was fitted with feature names\n",
            "  warnings.warn(\n",
            "/usr/local/lib/python3.10/dist-packages/sklearn/base.py:439: UserWarning: X does not have valid feature names, but RandomForestRegressor was fitted with feature names\n",
            "  warnings.warn(\n",
            "/usr/local/lib/python3.10/dist-packages/sklearn/base.py:439: UserWarning: X does not have valid feature names, but LinearRegression was fitted with feature names\n",
            "  warnings.warn(\n",
            "/usr/local/lib/python3.10/dist-packages/sklearn/base.py:439: UserWarning: X does not have valid feature names, but LinearRegression was fitted with feature names\n",
            "  warnings.warn(\n",
            "/usr/local/lib/python3.10/dist-packages/sklearn/base.py:439: UserWarning: X does not have valid feature names, but RandomForestRegressor was fitted with feature names\n",
            "  warnings.warn(\n",
            "/usr/local/lib/python3.10/dist-packages/sklearn/base.py:439: UserWarning: X does not have valid feature names, but RandomForestRegressor was fitted with feature names\n",
            "  warnings.warn(\n"
          ]
        }
      ]
    },
    {
      "cell_type": "markdown",
      "source": [
        " Example prediction with random forest\n"
      ],
      "metadata": {
        "id": "EfT10T1g_oVQ"
      }
    },
    {
      "cell_type": "markdown",
      "source": [
        "predict for LR\n",
        "\n"
      ],
      "metadata": {
        "id": "S-MTFCIpRgpa"
      }
    },
    {
      "cell_type": "code",
      "source": [
        "y_pred_temp_lr = model_temp_lr.predict(np.array(new_altitudes).reshape(-1, 1))\n",
        "y_pred_pressure_lr = model_pressure_lr.predict(np.array(new_altitudes).reshape(-1, 1))"
      ],
      "metadata": {
        "colab": {
          "base_uri": "https://localhost:8080/"
        },
        "id": "0Tr9ZVja8yZO",
        "outputId": "055f52a7-cddd-467f-ea65-7f0af3025ff1"
      },
      "execution_count": null,
      "outputs": [
        {
          "output_type": "stream",
          "name": "stderr",
          "text": [
            "/usr/local/lib/python3.10/dist-packages/sklearn/base.py:439: UserWarning: X does not have valid feature names, but LinearRegression was fitted with feature names\n",
            "  warnings.warn(\n",
            "/usr/local/lib/python3.10/dist-packages/sklearn/base.py:439: UserWarning: X does not have valid feature names, but LinearRegression was fitted with feature names\n",
            "  warnings.warn(\n"
          ]
        }
      ]
    },
    {
      "cell_type": "markdown",
      "source": [
        "predict for RF"
      ],
      "metadata": {
        "id": "laful3HLRuuv"
      }
    },
    {
      "cell_type": "code",
      "source": [
        "y_pred_temp_rf = model_temp_rf.predict(np.array(new_altitudes).reshape(-1, 1))\n",
        "y_pred_pressure_rf = model_pressure_rf.predict(np.array(new_altitudes).reshape(-1, 1))"
      ],
      "metadata": {
        "colab": {
          "base_uri": "https://localhost:8080/"
        },
        "id": "7xsj8e9dPmkx",
        "outputId": "642d8bcd-7f7d-4c44-fbcf-e82ff6901b43"
      },
      "execution_count": null,
      "outputs": [
        {
          "output_type": "stream",
          "name": "stderr",
          "text": [
            "/usr/local/lib/python3.10/dist-packages/sklearn/base.py:439: UserWarning: X does not have valid feature names, but RandomForestRegressor was fitted with feature names\n",
            "  warnings.warn(\n",
            "/usr/local/lib/python3.10/dist-packages/sklearn/base.py:439: UserWarning: X does not have valid feature names, but RandomForestRegressor was fitted with feature names\n",
            "  warnings.warn(\n"
          ]
        }
      ]
    },
    {
      "cell_type": "code",
      "source": [
        "print(y_test_temp.shape)"
      ],
      "metadata": {
        "colab": {
          "base_uri": "https://localhost:8080/"
        },
        "id": "SAd1Jv6TccMM",
        "outputId": "7cfd66f4-fdee-4a23-dd1c-c3dd0a537f6c"
      },
      "execution_count": null,
      "outputs": [
        {
          "output_type": "stream",
          "name": "stdout",
          "text": [
            "(200,)\n"
          ]
        }
      ]
    },
    {
      "cell_type": "code",
      "source": [
        "print(y_test_pressure.shape)"
      ],
      "metadata": {
        "colab": {
          "base_uri": "https://localhost:8080/"
        },
        "id": "uF758v35cwRy",
        "outputId": "b2fddbbb-46d5-48f7-bb5d-82625cda2d11"
      },
      "execution_count": null,
      "outputs": [
        {
          "output_type": "stream",
          "name": "stdout",
          "text": [
            "(200,)\n"
          ]
        }
      ]
    },
    {
      "cell_type": "markdown",
      "source": [
        "Calculate error percentage for linear regression"
      ],
      "metadata": {
        "id": "2qEjhNS1duJX"
      }
    },
    {
      "cell_type": "code",
      "source": [
        "error_percentage_temp_lr = calculate_error_percentage(y_temp, model_temp_lr.predict(X))\n",
        "mean_error_percentage_temp_lr = np.mean(error_percentage_temp_lr)\n",
        "error_percentage_pressure_lr = calculate_error_percentage(y_pressure, model_pressure_lr.predict(X))\n",
        "mean_error_percentage_pressure_lr = np.mean(error_percentage_pressure_lr)"
      ],
      "metadata": {
        "id": "QjIC9ezsdcGw"
      },
      "execution_count": null,
      "outputs": []
    },
    {
      "cell_type": "markdown",
      "source": [
        "Calculate error percentage for random forest"
      ],
      "metadata": {
        "id": "U0WomJm-d2eA"
      }
    },
    {
      "cell_type": "code",
      "source": [
        "error_percentage_temp_rf = calculate_error_percentage(y_temp, model_temp_rf.predict(X))\n",
        "mean_error_percentage_temp_rf = np.mean(error_percentage_temp_rf)\n",
        "error_percentage_pressure_rf = calculate_error_percentage(y_pressure, model_pressure_rf.predict(X))\n",
        "mean_error_percentage_pressure_rf = np.mean(error_percentage_pressure_rf)"
      ],
      "metadata": {
        "id": "T7ni51SYdxSJ"
      },
      "execution_count": null,
      "outputs": []
    },
    {
      "cell_type": "markdown",
      "source": [
        "Calculate R-squared for linear regression"
      ],
      "metadata": {
        "id": "eZAb5whgeJj7"
      }
    },
    {
      "cell_type": "code",
      "source": [
        "r2_temp_lr = calculate_r_squared(y_temp, model_temp_lr.predict(X))\n",
        "r2_pressure_lr = calculate_r_squared(y_pressure, model_pressure_lr.predict(X))"
      ],
      "metadata": {
        "id": "n1RUbg00eDPN"
      },
      "execution_count": null,
      "outputs": []
    },
    {
      "cell_type": "markdown",
      "source": [
        "Calculate R-squared for random forest"
      ],
      "metadata": {
        "id": "mSbQexpLeRE-"
      }
    },
    {
      "cell_type": "code",
      "source": [
        "r2_temp_rf = calculate_r_squared(y_temp, model_temp_rf.predict(X))\n",
        "r2_pressure_rf = calculate_r_squared(y_pressure, model_pressure_rf.predict(X))"
      ],
      "metadata": {
        "id": "lehbZtP1eLVG"
      },
      "execution_count": null,
      "outputs": []
    },
    {
      "cell_type": "code",
      "source": [
        "print(\"\\nLinear Regression:\")\n",
        "print(\"R-squared (Temperature):\", r2_temp_lr)\n",
        "print(\"Mean Error Percentage (Temperature):\", mean_error_percentage_temp_lr)\n",
        "print(\"R-squared (Pressure):\", r2_pressure_lr)\n",
        "print(\"Mean Error Percentage (Pressure):\", mean_error_percentage_pressure_lr)"
      ],
      "metadata": {
        "colab": {
          "base_uri": "https://localhost:8080/"
        },
        "id": "lAJWkCe6eSTl",
        "outputId": "1b05b42f-4c94-4ac9-ee86-c53cce25b89b"
      },
      "execution_count": null,
      "outputs": [
        {
          "output_type": "stream",
          "name": "stdout",
          "text": [
            "\n",
            "Linear Regression:\n",
            "R-squared (Temperature): 0.28156467529546225\n",
            "Mean Error Percentage (Temperature): 3.4144046397754573\n",
            "R-squared (Pressure): 0.9999485024705338\n",
            "Mean Error Percentage (Pressure): 0.00025567943297140507\n"
          ]
        }
      ]
    },
    {
      "cell_type": "code",
      "source": [
        "print(\"\\nRandom Forest:\")\n",
        "print(\"R-squared (Temperature):\", r2_temp_rf)\n",
        "print(\"Mean Error Percentage (Temperature):\", mean_error_percentage_temp_rf)\n",
        "print(\"R-squared (Pressure):\", r2_pressure_rf)\n",
        "print(\"Mean Error Percentage (Pressure):\", mean_error_percentage_pressure_rf)"
      ],
      "metadata": {
        "colab": {
          "base_uri": "https://localhost:8080/"
        },
        "id": "4sDzlbwzecWh",
        "outputId": "35e79582-ffcf-4f61-a998-27568300165f"
      },
      "execution_count": null,
      "outputs": [
        {
          "output_type": "stream",
          "name": "stdout",
          "text": [
            "\n",
            "Random Forest:\n",
            "R-squared (Temperature): 0.8748853950882163\n",
            "Mean Error Percentage (Temperature): 0.703734906487645\n",
            "R-squared (Pressure): 0.9999748128044511\n",
            "Mean Error Percentage (Pressure): 7.703739873151329e-05\n"
          ]
        }
      ]
    },
    {
      "cell_type": "markdown",
      "source": [
        "Predictions for new altitudes"
      ],
      "metadata": {
        "id": "UVEbaqWysOw7"
      }
    },
    {
      "cell_type": "code",
      "source": [
        "new_altitudes = np.linspace(130, 150, 1000).reshape(-1, 1)  # Generate altitudes from 0 to 10000\n",
        "y_pred_temp_lr = model_temp_lr.predict(new_altitudes)\n",
        "y_pred_pressure_lr = model_pressure_lr.predict(new_altitudes)\n",
        "y_pred_temp_rf = model_temp_rf.predict(new_altitudes)\n",
        "y_pred_pressure_rf = model_pressure_rf.predict(new_altitudes)"
      ],
      "metadata": {
        "colab": {
          "base_uri": "https://localhost:8080/"
        },
        "id": "H6gs1mIFiZOb",
        "outputId": "0675e563-d875-45a1-900d-9b60b1fb0772"
      },
      "execution_count": null,
      "outputs": [
        {
          "output_type": "stream",
          "name": "stderr",
          "text": [
            "/usr/local/lib/python3.10/dist-packages/sklearn/base.py:439: UserWarning: X does not have valid feature names, but LinearRegression was fitted with feature names\n",
            "  warnings.warn(\n",
            "/usr/local/lib/python3.10/dist-packages/sklearn/base.py:439: UserWarning: X does not have valid feature names, but LinearRegression was fitted with feature names\n",
            "  warnings.warn(\n",
            "/usr/local/lib/python3.10/dist-packages/sklearn/base.py:439: UserWarning: X does not have valid feature names, but RandomForestRegressor was fitted with feature names\n",
            "  warnings.warn(\n",
            "/usr/local/lib/python3.10/dist-packages/sklearn/base.py:439: UserWarning: X does not have valid feature names, but RandomForestRegressor was fitted with feature names\n",
            "  warnings.warn(\n"
          ]
        }
      ]
    },
    {
      "cell_type": "markdown",
      "source": [
        "plotting"
      ],
      "metadata": {
        "id": "Suvsfs1QreCf"
      }
    },
    {
      "cell_type": "code",
      "source": [
        "plt.figure(figsize=(12, 8))"
      ],
      "metadata": {
        "colab": {
          "base_uri": "https://localhost:8080/",
          "height": 52
        },
        "id": "4ZENMfBirFao",
        "outputId": "e69e2a15-3298-4581-8704-7d2b0c0b62c8"
      },
      "execution_count": null,
      "outputs": [
        {
          "output_type": "execute_result",
          "data": {
            "text/plain": [
              "<Figure size 1200x800 with 0 Axes>"
            ]
          },
          "metadata": {},
          "execution_count": 58
        },
        {
          "output_type": "display_data",
          "data": {
            "text/plain": [
              "<Figure size 1200x800 with 0 Axes>"
            ]
          },
          "metadata": {}
        }
      ]
    },
    {
      "cell_type": "markdown",
      "source": [
        "LR results"
      ],
      "metadata": {
        "id": "XEhYcdkxrf1a"
      }
    },
    {
      "cell_type": "code",
      "source": [
        "plt.subplot(2, 2, 1)\n",
        "plt.scatter(X, y_temp, color='blue', label='Actual', s=10)\n",
        "plt.plot(new_altitudes, y_pred_temp_lr, 'r--', label='Linear Regression')\n",
        "plt.title('Temperature Prediction (Linear Regression)')\n",
        "plt.xlabel('Altitude')\n",
        "plt.ylabel('Temperature')\n",
        "plt.legend()\n"
      ],
      "metadata": {
        "colab": {
          "base_uri": "https://localhost:8080/",
          "height": 287
        },
        "id": "rV2Oo05zrJ3B",
        "outputId": "a40002f7-3af4-4feb-a3ef-56a216966c8d"
      },
      "execution_count": null,
      "outputs": [
        {
          "output_type": "execute_result",
          "data": {
            "text/plain": [
              "<matplotlib.legend.Legend at 0x797133212f50>"
            ]
          },
          "metadata": {},
          "execution_count": 59
        },
        {
          "output_type": "display_data",
          "data": {
            "text/plain": [
              "<Figure size 640x480 with 1 Axes>"
            ],
            "image/png": "[encoded data removed]"
          },
          "metadata": {}
        }
      ]
    },
    {
      "cell_type": "code",
      "source": [
        "plt.subplot(2, 2, 2)\n",
        "plt.scatter(X, y_pressure, color='blue', label='Actual', s=10)\n",
        "plt.plot(new_altitudes, y_pred_pressure_lr, 'r--', label='Linear Regression')\n",
        "plt.title('Pressure Prediction (Linear Regression)')\n",
        "plt.xlabel('Altitude')\n",
        "plt.ylabel('Pressure')\n",
        "plt.legend()"
      ],
      "metadata": {
        "colab": {
          "base_uri": "https://localhost:8080/",
          "height": 287
        },
        "id": "5oSVeuvc1FKF",
        "outputId": "a1d8fcba-beb2-4d74-ee4a-565b46d9f27b"
      },
      "execution_count": null,
      "outputs": [
        {
          "output_type": "execute_result",
          "data": {
            "text/plain": [
              "<matplotlib.legend.Legend at 0x797133270f10>"
            ]
          },
          "metadata": {},
          "execution_count": 60
        },
        {
          "output_type": "display_data",
          "data": {
            "text/plain": [
              "<Figure size 640x480 with 1 Axes>"
            ],
            "image/png": "[encoded data removed]"
          },
          "metadata": {}
        }
      ]
    },
    {
      "cell_type": "markdown",
      "source": [
        "RF results"
      ],
      "metadata": {
        "id": "MJGGKvhzrjBk"
      }
    },
    {
      "cell_type": "code",
      "source": [
        "plt.subplot(2, 2, 3)\n",
        "plt.scatter(X, y_temp, color='blue', label='Actual')\n",
        "plt.plot(new_altitudes, y_pred_temp_rf, 'g--', label='Random Forest')\n",
        "plt.title('Temperature Prediction (Random Forest)')\n",
        "plt.xlabel('Altitude')\n",
        "plt.ylabel('Temperature')\n",
        "plt.legend()\n",
        "\n",
        "plt.tight_layout()\n",
        "plt.show()"
      ],
      "metadata": {
        "colab": {
          "base_uri": "https://localhost:8080/",
          "height": 287
        },
        "id": "3JH3lwuHrPtw",
        "outputId": "70f0864e-508f-4aed-de99-5509b72875fc"
      },
      "execution_count": null,
      "outputs": [
        {
          "output_type": "display_data",
          "data": {
            "text/plain": [
              "<Figure size 640x480 with 1 Axes>"
            ],
            "image/png": "[encoded data removed]"
          },
          "metadata": {}
        }
      ]
    },
    {
      "cell_type": "code",
      "source": [
        "plt.subplot(2, 2, 4)\n",
        "plt.scatter(X, y_pressure, color='blue', label='Actual')\n",
        "plt.plot(new_altitudes, y_pred_pressure_rf, 'g--', label='Random Forest')\n",
        "plt.title('Pressure Prediction (Random Forest)')\n",
        "plt.xlabel('Altitude')\n",
        "plt.ylabel('Pressure')\n",
        "plt.legend()\n",
        "plt.tight_layout()\n",
        "plt.show()"
      ],
      "metadata": {
        "id": "8xT__nj15TDY",
        "outputId": "549b4e28-b245-4ef3-fd7b-b218f339a567",
        "colab": {
          "base_uri": "https://localhost:8080/",
          "height": 287
        }
      },
      "execution_count": null,
      "outputs": [
        {
          "output_type": "display_data",
          "data": {
            "text/plain": [
              "<Figure size 640x480 with 1 Axes>"
            ],
            "image/png": "[encoded data removed]"
          },
          "metadata": {}
        }
      ]
    }
  ]
}